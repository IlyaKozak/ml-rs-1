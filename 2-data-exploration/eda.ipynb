{
 "cells": [
  {
   "cell_type": "code",
   "execution_count": 153,
   "id": "05196a8d",
   "metadata": {},
   "outputs": [],
   "source": [
    "import numpy as np\n",
    "import pandas as pd\n",
    "import matplotlib.pyplot as plt\n",
    "import seaborn as sns"
   ]
  },
  {
   "cell_type": "markdown",
   "id": "aa98c171",
   "metadata": {},
   "source": [
    "# Context"
   ]
  },
  {
   "cell_type": "markdown",
   "id": "45cba230",
   "metadata": {},
   "source": [
    "```\n",
    "The `titanic_data` is synthetic data based on a real Titanic (a British passenger liner, which sank in the North Atlantic Ocean on 15 April 1912 after striking an iceberg during her maiden voyage from Southampton, UK to New York City) dataset:\n",
    "```"
   ]
  },
  {
   "cell_type": "code",
   "execution_count": 154,
   "id": "b489cb9e",
   "metadata": {
    "scrolled": true
   },
   "outputs": [
    {
     "data": {
      "text/html": [
       "<div>\n",
       "<style scoped>\n",
       "    .dataframe tbody tr th:only-of-type {\n",
       "        vertical-align: middle;\n",
       "    }\n",
       "\n",
       "    .dataframe tbody tr th {\n",
       "        vertical-align: top;\n",
       "    }\n",
       "\n",
       "    .dataframe thead th {\n",
       "        text-align: right;\n",
       "    }\n",
       "</style>\n",
       "<table border=\"1\" class=\"dataframe\">\n",
       "  <thead>\n",
       "    <tr style=\"text-align: right;\">\n",
       "      <th></th>\n",
       "      <th>PassengerId</th>\n",
       "      <th>Survived</th>\n",
       "      <th>Pclass</th>\n",
       "      <th>Name</th>\n",
       "      <th>Sex</th>\n",
       "      <th>Age</th>\n",
       "      <th>SibSp</th>\n",
       "      <th>Parch</th>\n",
       "      <th>Ticket</th>\n",
       "      <th>Fare</th>\n",
       "      <th>Cabin</th>\n",
       "      <th>Embarked</th>\n",
       "    </tr>\n",
       "  </thead>\n",
       "  <tbody>\n",
       "    <tr>\n",
       "      <th>0</th>\n",
       "      <td>0</td>\n",
       "      <td>1</td>\n",
       "      <td>1</td>\n",
       "      <td>Oconnor, Frankie</td>\n",
       "      <td>male</td>\n",
       "      <td>NaN</td>\n",
       "      <td>2</td>\n",
       "      <td>0</td>\n",
       "      <td>209245</td>\n",
       "      <td>27.14</td>\n",
       "      <td>C12239</td>\n",
       "      <td>S</td>\n",
       "    </tr>\n",
       "    <tr>\n",
       "      <th>1</th>\n",
       "      <td>1</td>\n",
       "      <td>0</td>\n",
       "      <td>3</td>\n",
       "      <td>Bryan, Drew</td>\n",
       "      <td>male</td>\n",
       "      <td>NaN</td>\n",
       "      <td>0</td>\n",
       "      <td>0</td>\n",
       "      <td>27323</td>\n",
       "      <td>13.35</td>\n",
       "      <td>NaN</td>\n",
       "      <td>S</td>\n",
       "    </tr>\n",
       "    <tr>\n",
       "      <th>2</th>\n",
       "      <td>2</td>\n",
       "      <td>0</td>\n",
       "      <td>3</td>\n",
       "      <td>Owens, Kenneth</td>\n",
       "      <td>male</td>\n",
       "      <td>0.33</td>\n",
       "      <td>1</td>\n",
       "      <td>2</td>\n",
       "      <td>CA 457703</td>\n",
       "      <td>71.29</td>\n",
       "      <td>NaN</td>\n",
       "      <td>S</td>\n",
       "    </tr>\n",
       "    <tr>\n",
       "      <th>3</th>\n",
       "      <td>3</td>\n",
       "      <td>0</td>\n",
       "      <td>3</td>\n",
       "      <td>Kramer, James</td>\n",
       "      <td>male</td>\n",
       "      <td>19.00</td>\n",
       "      <td>0</td>\n",
       "      <td>0</td>\n",
       "      <td>A. 10866</td>\n",
       "      <td>13.04</td>\n",
       "      <td>NaN</td>\n",
       "      <td>S</td>\n",
       "    </tr>\n",
       "    <tr>\n",
       "      <th>4</th>\n",
       "      <td>4</td>\n",
       "      <td>1</td>\n",
       "      <td>3</td>\n",
       "      <td>Bond, Michael</td>\n",
       "      <td>male</td>\n",
       "      <td>25.00</td>\n",
       "      <td>0</td>\n",
       "      <td>0</td>\n",
       "      <td>427635</td>\n",
       "      <td>7.76</td>\n",
       "      <td>NaN</td>\n",
       "      <td>S</td>\n",
       "    </tr>\n",
       "  </tbody>\n",
       "</table>\n",
       "</div>"
      ],
      "text/plain": [
       "   PassengerId  Survived  Pclass              Name   Sex    Age  SibSp  Parch  \\\n",
       "0            0         1       1  Oconnor, Frankie  male    NaN      2      0   \n",
       "1            1         0       3       Bryan, Drew  male    NaN      0      0   \n",
       "2            2         0       3    Owens, Kenneth  male   0.33      1      2   \n",
       "3            3         0       3     Kramer, James  male  19.00      0      0   \n",
       "4            4         1       3     Bond, Michael  male  25.00      0      0   \n",
       "\n",
       "      Ticket   Fare   Cabin Embarked  \n",
       "0     209245  27.14  C12239        S  \n",
       "1      27323  13.35     NaN        S  \n",
       "2  CA 457703  71.29     NaN        S  \n",
       "3   A. 10866  13.04     NaN        S  \n",
       "4     427635   7.76     NaN        S  "
      ]
     },
     "execution_count": 154,
     "metadata": {},
     "output_type": "execute_result"
    }
   ],
   "source": [
    "titanic_data = pd.read_csv('./train.csv')\n",
    "titanic_data.head()"
   ]
  },
  {
   "cell_type": "markdown",
   "id": "6520e1c4",
   "metadata": {},
   "source": [
    "```\n",
    "Here is a summary info of a data of total number of 100.000 entries & 12 columns:\n",
    "```"
   ]
  },
  {
   "cell_type": "code",
   "execution_count": 155,
   "id": "58e4f26e",
   "metadata": {},
   "outputs": [
    {
     "name": "stdout",
     "output_type": "stream",
     "text": [
      "<class 'pandas.core.frame.DataFrame'>\n",
      "RangeIndex: 100000 entries, 0 to 99999\n",
      "Data columns (total 12 columns):\n",
      " #   Column       Non-Null Count   Dtype  \n",
      "---  ------       --------------   -----  \n",
      " 0   PassengerId  100000 non-null  int64  \n",
      " 1   Survived     100000 non-null  int64  \n",
      " 2   Pclass       100000 non-null  int64  \n",
      " 3   Name         100000 non-null  object \n",
      " 4   Sex          100000 non-null  object \n",
      " 5   Age          96708 non-null   float64\n",
      " 6   SibSp        100000 non-null  int64  \n",
      " 7   Parch        100000 non-null  int64  \n",
      " 8   Ticket       95377 non-null   object \n",
      " 9   Fare         99866 non-null   float64\n",
      " 10  Cabin        32134 non-null   object \n",
      " 11  Embarked     99750 non-null   object \n",
      "dtypes: float64(2), int64(5), object(5)\n",
      "memory usage: 9.2+ MB\n"
     ]
    }
   ],
   "source": [
    "titanic_data.info()"
   ]
  },
  {
   "cell_type": "markdown",
   "id": "60197258",
   "metadata": {},
   "source": [
    "```\n",
    "Out of 100.000 survived 42774.  \n",
    "```\n",
    "### The main goal is to analyze which of provided characteristics could lead to survival.  \n"
   ]
  },
  {
   "cell_type": "code",
   "execution_count": 156,
   "id": "3959e2d7",
   "metadata": {},
   "outputs": [
    {
     "data": {
      "text/plain": [
       "0    57226\n",
       "1    42774\n",
       "Name: Survived, dtype: int64"
      ]
     },
     "execution_count": 156,
     "metadata": {},
     "output_type": "execute_result"
    }
   ],
   "source": [
    "titanic_data['Survived'].value_counts()"
   ]
  },
  {
   "cell_type": "markdown",
   "id": "9b4320c6",
   "metadata": {},
   "source": [
    "# Data quality assessment"
   ]
  },
  {
   "cell_type": "code",
   "execution_count": 157,
   "id": "e443ca82",
   "metadata": {},
   "outputs": [
    {
     "data": {
      "text/plain": [
       "Cabin          67866\n",
       "Ticket          4623\n",
       "Age             3292\n",
       "Embarked         250\n",
       "Fare             134\n",
       "PassengerId        0\n",
       "Survived           0\n",
       "Pclass             0\n",
       "Name               0\n",
       "Sex                0\n",
       "SibSp              0\n",
       "Parch              0\n",
       "dtype: int64"
      ]
     },
     "execution_count": 157,
     "metadata": {},
     "output_type": "execute_result"
    }
   ],
   "source": [
    "titanic_data.isnull().sum().sort_values(ascending=False)"
   ]
  },
  {
   "cell_type": "markdown",
   "id": "f9cf0af1",
   "metadata": {},
   "source": [
    "\n",
    "_Cabin_, _Ticket_, _Age_, _Embarked_, _Fare_ have missing data.  \n",
    "With _Cabin_ data is hard to do something useful, because too much data are missing.  \n",
    "_Fare_, _Embarked_, _Age_, _Ticket_ missing data can be dropped or filled out with average values.\n"
   ]
  },
  {
   "cell_type": "code",
   "execution_count": 158,
   "id": "085ee003",
   "metadata": {},
   "outputs": [
    {
     "data": {
      "text/plain": [
       "<AxesSubplot:>"
      ]
     },
     "execution_count": 158,
     "metadata": {},
     "output_type": "execute_result"
    },
    {
     "data": {
      "image/png": "[encoded data removed]",
      "text/plain": [
       "<Figure size 1152x432 with 1 Axes>"
      ]
     },
     "metadata": {
      "needs_background": "light"
     },
     "output_type": "display_data"
    }
   ],
   "source": [
    "plt.figure(figsize=(16, 6))\n",
    "sns.heatmap(titanic_data.isnull(), yticklabels=False, cbar=False, cmap='viridis')"
   ]
  },
  {
   "cell_type": "markdown",
   "id": "28c8492c",
   "metadata": {},
   "source": [
    "### Checking duplicates:"
   ]
  },
  {
   "cell_type": "code",
   "execution_count": 159,
   "id": "2fcb8df0",
   "metadata": {},
   "outputs": [
    {
     "name": "stdout",
     "output_type": "stream",
     "text": [
      "Johnson, John       31\n",
      "Smith, James        24\n",
      "Smith, John         24\n",
      "Johnson, William    22\n",
      "Smith, Michael      20\n",
      "Name: Name, dtype: int64 \n",
      "\n"
     ]
    }
   ],
   "source": [
    "print('{} \\n'.format(titanic_data['Name'].value_counts()[:5]))"
   ]
  },
  {
   "cell_type": "code",
   "execution_count": 160,
   "id": "4a9b58fb",
   "metadata": {},
   "outputs": [
    {
     "name": "stdout",
     "output_type": "stream",
     "text": [
      "C19828    6\n",
      "C6906     5\n",
      "C13699    5\n",
      "C14534    5\n",
      "B11110    5\n",
      "Name: Cabin, dtype: int64 \n",
      "\n"
     ]
    }
   ],
   "source": [
    "print('{} \\n'.format(titanic_data['Cabin'].value_counts()[:5]))"
   ]
  },
  {
   "cell_type": "code",
   "execution_count": 161,
   "id": "64857298",
   "metadata": {},
   "outputs": [
    {
     "name": "stdout",
     "output_type": "stream",
     "text": [
      "A/5            602\n",
      "C.A.           177\n",
      "SC/PARIS       145\n",
      "SOTON/O.Q.      80\n",
      "SC              57\n",
      "Name: Ticket, dtype: int64 \n",
      "\n"
     ]
    }
   ],
   "source": [
    "print('{} \\n'.format(titanic_data['Ticket'].value_counts()[:5]))"
   ]
  },
  {
   "cell_type": "markdown",
   "id": "2b2bdb00",
   "metadata": {},
   "source": [
    "Some tickets linked to a lot of people."
   ]
  },
  {
   "cell_type": "markdown",
   "id": "a18aba97",
   "metadata": {},
   "source": [
    "### Checking for outliers:"
   ]
  },
  {
   "cell_type": "code",
   "execution_count": 162,
   "id": "3f8b744f",
   "metadata": {
    "scrolled": false
   },
   "outputs": [
    {
     "name": "stderr",
     "output_type": "stream",
     "text": [
      "/tmp/ipykernel_19275/4102736586.py:4: FutureWarning: Automatic reindexing on DataFrame vs Series comparisons is deprecated and will raise ValueError in a future version. Do `left, right = left.align(right, axis=1, copy=False)` before e.g. `left == right`\n",
      "  outliers = ((titanic_data < (Q1 - 1.5 * IQR)) | (titanic_data > (Q3 + 1.5 * IQR)))\n"
     ]
    },
    {
     "data": {
      "text/plain": [
       "Age                0\n",
       "Cabin              0\n",
       "Embarked           0\n",
       "Fare           17161\n",
       "Name               0\n",
       "Parch           2228\n",
       "PassengerId        0\n",
       "Pclass             0\n",
       "Sex                0\n",
       "SibSp           3231\n",
       "Survived           0\n",
       "Ticket             0\n",
       "dtype: int64"
      ]
     },
     "execution_count": 162,
     "metadata": {},
     "output_type": "execute_result"
    }
   ],
   "source": [
    "Q1 = titanic_data.quantile(0.25)\n",
    "Q3 = titanic_data.quantile(0.75)\n",
    "IQR = Q3 - Q1\n",
    "outliers = ((titanic_data < (Q1 - 1.5 * IQR)) | (titanic_data > (Q3 + 1.5 * IQR)))\n",
    "outliers.sum()"
   ]
  },
  {
   "cell_type": "code",
   "execution_count": 163,
   "id": "98879156",
   "metadata": {},
   "outputs": [
    {
     "data": {
      "image/png": "[encoded data removed]",
      "text/plain": [
       "<Figure size 576x576 with 1 Axes>"
      ]
     },
     "metadata": {
      "needs_background": "light"
     },
     "output_type": "display_data"
    }
   ],
   "source": [
    "plt.figure(figsize=(8, 8))\n",
    "ax = sns.boxplot(x='Pclass', y='Fare', data=titanic_data)"
   ]
  },
  {
   "cell_type": "markdown",
   "id": "6b99e5fc",
   "metadata": {},
   "source": [
    "```\n",
    "There are outliers for Fare in all 3 Pclasses (will be eliminated).\n",
    "```"
   ]
  },
  {
   "cell_type": "markdown",
   "id": "5408eca5",
   "metadata": {},
   "source": [
    "# Data exploration"
   ]
  },
  {
   "cell_type": "markdown",
   "id": "dffe68cf",
   "metadata": {},
   "source": [
    "\n",
    "Checking **correlation** between numerical values:\n"
   ]
  },
  {
   "cell_type": "code",
   "execution_count": 164,
   "id": "c47b3b7f",
   "metadata": {},
   "outputs": [
    {
     "data": {
      "image/png": "[encoded data removed]",
      "text/plain": [
       "<Figure size 432x288 with 2 Axes>"
      ]
     },
     "metadata": {
      "needs_background": "light"
     },
     "output_type": "display_data"
    }
   ],
   "source": [
    "# Correlation matrix between numerical values (SibSp Parch Age and Fare values) and Survived\n",
    "corr_numeric = sns.heatmap(titanic_data[[\"Survived\",\"SibSp\",\"Parch\",\"Age\",\"Fare\"]].corr(),\n",
    "                           annot=True, fmt = \".2f\", cmap = \"summer\")"
   ]
  },
  {
   "cell_type": "markdown",
   "id": "56a1a23c",
   "metadata": {},
   "source": [
    "### Survivability by gender:"
   ]
  },
  {
   "cell_type": "code",
   "execution_count": 165,
   "id": "e338ab33",
   "metadata": {},
   "outputs": [
    {
     "data": {
      "image/png": "[encoded data removed]",
      "text/plain": [
       "<Figure size 432x288 with 1 Axes>"
      ]
     },
     "metadata": {
      "needs_background": "light"
     },
     "output_type": "display_data"
    }
   ],
   "source": [
    "ax = sns.countplot(x='Sex', hue='Survived', data=titanic_data)\n",
    "\n",
    "for p in ax.patches:\n",
    "    ax.annotate('{:.0f}'.format(p.get_height()), (p.get_x() + 0.1, p.get_height()))\n",
    "\n",
    "plt.legend(labels=['Not Survived', 'Survived'])\n",
    "plt.show()"
   ]
  },
  {
   "cell_type": "markdown",
   "id": "dba2bef5",
   "metadata": {},
   "source": [
    "```\n",
    "31226 female are survived and 12660 are not.  \n",
    "11548 male are survived and 44566 are not.  \n",
    "If you are female you have higher chances to survive.\n",
    "```"
   ]
  },
  {
   "cell_type": "code",
   "execution_count": 166,
   "id": "43397d53",
   "metadata": {},
   "outputs": [
    {
     "name": "stdout",
     "output_type": "stream",
     "text": [
      "71% of female are survived\n"
     ]
    }
   ],
   "source": [
    "# percentage of female survived\n",
    "female = titanic_data.loc[titanic_data['Sex'] == 'female']['Survived']\n",
    "print(\"{:.0%}\".format(sum(female) / len(female)), 'of female are survived')"
   ]
  },
  {
   "cell_type": "code",
   "execution_count": 167,
   "id": "19139a93",
   "metadata": {
    "scrolled": true
   },
   "outputs": [
    {
     "name": "stdout",
     "output_type": "stream",
     "text": [
      "21% of male are survived\n"
     ]
    }
   ],
   "source": [
    "# percentage of male survived\n",
    "female = titanic_data.loc[titanic_data['Sex'] == 'male']['Survived']\n",
    "print(\"{:.0%}\".format(sum(female) / len(female)), 'of male are survived')"
   ]
  },
  {
   "cell_type": "markdown",
   "id": "1a06acc6",
   "metadata": {},
   "source": [
    "### Survivability by Pclass:"
   ]
  },
  {
   "cell_type": "code",
   "execution_count": 168,
   "id": "8fddcbc6",
   "metadata": {},
   "outputs": [
    {
     "data": {
      "image/png": "[encoded data removed]",
      "text/plain": [
       "<Figure size 432x288 with 1 Axes>"
      ]
     },
     "metadata": {
      "needs_background": "light"
     },
     "output_type": "display_data"
    }
   ],
   "source": [
    "ax = sns.countplot(x='Pclass', hue='Survived', data=titanic_data)\n",
    "\n",
    "for p in ax.patches:\n",
    "    ax.annotate('{:.0f}'.format(p.get_height()), (p.get_x() + 0.05, p.get_height()))\n",
    "\n",
    "plt.legend(labels=['Not Survived', 'Survived'])\n",
    "plt.show()"
   ]
  },
  {
   "cell_type": "markdown",
   "id": "53063ac4",
   "metadata": {},
   "source": [
    "\n",
    "If you are in *1st* or *2nd* class you are more likely (58% & 53%) to survive than in *3rd* class (25%).\n"
   ]
  },
  {
   "cell_type": "code",
   "execution_count": 169,
   "id": "f121f161",
   "metadata": {},
   "outputs": [
    {
     "data": {
      "text/html": [
       "<div>\n",
       "<style scoped>\n",
       "    .dataframe tbody tr th:only-of-type {\n",
       "        vertical-align: middle;\n",
       "    }\n",
       "\n",
       "    .dataframe tbody tr th {\n",
       "        vertical-align: top;\n",
       "    }\n",
       "\n",
       "    .dataframe thead th {\n",
       "        text-align: right;\n",
       "    }\n",
       "</style>\n",
       "<table border=\"1\" class=\"dataframe\">\n",
       "  <thead>\n",
       "    <tr style=\"text-align: right;\">\n",
       "      <th></th>\n",
       "      <th>Pclass</th>\n",
       "      <th>Survived</th>\n",
       "    </tr>\n",
       "  </thead>\n",
       "  <tbody>\n",
       "    <tr>\n",
       "      <th>0</th>\n",
       "      <td>1</td>\n",
       "      <td>0.579779</td>\n",
       "    </tr>\n",
       "    <tr>\n",
       "      <th>1</th>\n",
       "      <td>2</td>\n",
       "      <td>0.525018</td>\n",
       "    </tr>\n",
       "    <tr>\n",
       "      <th>2</th>\n",
       "      <td>3</td>\n",
       "      <td>0.247305</td>\n",
       "    </tr>\n",
       "  </tbody>\n",
       "</table>\n",
       "</div>"
      ],
      "text/plain": [
       "   Pclass  Survived\n",
       "0       1  0.579779\n",
       "1       2  0.525018\n",
       "2       3  0.247305"
      ]
     },
     "execution_count": 169,
     "metadata": {},
     "output_type": "execute_result"
    }
   ],
   "source": [
    "titanic_data[['Pclass', 'Survived']] \\\n",
    "    .groupby(['Pclass'], as_index=False) \\\n",
    "    .mean() \\\n",
    "    .sort_values(by='Survived', ascending=False)"
   ]
  },
  {
   "cell_type": "markdown",
   "id": "ba7063ca",
   "metadata": {},
   "source": [
    "### Survivability by Age:"
   ]
  },
  {
   "cell_type": "markdown",
   "id": "10765765",
   "metadata": {},
   "source": [
    "```\n",
    "Let's fill in missing values and check histogram.\n",
    "```"
   ]
  },
  {
   "cell_type": "code",
   "execution_count": 170,
   "id": "21e77461",
   "metadata": {},
   "outputs": [
    {
     "data": {
      "text/plain": [
       "(45, 39, 33)"
      ]
     },
     "execution_count": 170,
     "metadata": {},
     "output_type": "execute_result"
    }
   ],
   "source": [
    "pclass1_mean_age = round(titanic_data[titanic_data['Pclass'] == 1]['Age'].mean())\n",
    "pclass2_mean_age = round(titanic_data[titanic_data['Pclass'] == 2]['Age'].mean())\n",
    "pclass3_mean_age = round(titanic_data[titanic_data['Pclass'] == 3]['Age'].mean())\n",
    "pclass1_mean_age, pclass2_mean_age, pclass3_mean_age"
   ]
  },
  {
   "cell_type": "code",
   "execution_count": 171,
   "id": "b856fd80",
   "metadata": {},
   "outputs": [],
   "source": [
    "def fill_in_na_values(cols):\n",
    "    age = cols[0]\n",
    "    pclass = cols[1]\n",
    "    \n",
    "    if pd.isnull(age):\n",
    "        if pclass == 1:\n",
    "            return pclass1_mean_age\n",
    "        elif pclass == 2:\n",
    "            return pclass2_mean_age\n",
    "        elif pclass == 3:\n",
    "            return pclass3_mean_age\n",
    "    else:\n",
    "        return age"
   ]
  },
  {
   "cell_type": "code",
   "execution_count": 172,
   "id": "aabb4b77",
   "metadata": {},
   "outputs": [],
   "source": [
    "titanic_data['Age'] = titanic_data[['Age', 'Pclass']].apply(fill_in_na_values, axis=1)"
   ]
  },
  {
   "cell_type": "code",
   "execution_count": 173,
   "id": "c89dabd9",
   "metadata": {
    "scrolled": false
   },
   "outputs": [
    {
     "data": {
      "text/plain": [
       "<matplotlib.legend.Legend at 0x7f7253903100>"
      ]
     },
     "execution_count": 173,
     "metadata": {},
     "output_type": "execute_result"
    },
    {
     "data": {
      "image/png": "[encoded data removed]",
      "text/plain": [
       "<Figure size 1152x432 with 1 Axes>"
      ]
     },
     "metadata": {
      "needs_background": "light"
     },
     "output_type": "display_data"
    }
   ],
   "source": [
    "plt.figure(figsize=(16, 6))\n",
    "plt.xticks(np.arange(0, 90, 2))\n",
    "sns.histplot(data=titanic_data[titanic_data['Age'].notnull()], x='Age', hue='Survived', alpha=0.8)\n",
    "plt.legend(labels=['Survived', 'Not Survived'])"
   ]
  },
  {
   "cell_type": "markdown",
   "id": "60f96037",
   "metadata": {},
   "source": [
    "```\n",
    "If your age between 11-14 or 68 and higher you are more likely to survive.\n",
    "```"
   ]
  },
  {
   "cell_type": "markdown",
   "id": "cca907c7",
   "metadata": {},
   "source": [
    "### Survivability by Fare:"
   ]
  },
  {
   "cell_type": "code",
   "execution_count": 174,
   "id": "a023f0e0",
   "metadata": {},
   "outputs": [
    {
     "data": {
      "text/plain": [
       "array([27.14, 13.35, 71.29, ...,  9.95, 30.92, 13.96])"
      ]
     },
     "execution_count": 174,
     "metadata": {},
     "output_type": "execute_result"
    }
   ],
   "source": [
    "# eliminating outliers\n",
    "Q1 = titanic_data['Fare'].quantile(0.25)\n",
    "Q3 = titanic_data['Fare'].quantile(0.75)\n",
    "IQR = Q3 - Q1\n",
    "lower_whisker = Q1 - (whisker_width * IQR)\n",
    "upper_whisker = Q3 + (whisker_width * IQR)\n",
    "np.where(titanic_data['Fare'] > upper_whisker, upper_whisker, \n",
    "                      np.where(titanic_data['Fare'] < lower_whisker, lower_whisker, titanic_data['Fare']))"
   ]
  },
  {
   "cell_type": "code",
   "execution_count": 175,
   "id": "2100d42a",
   "metadata": {
    "scrolled": false
   },
   "outputs": [
    {
     "data": {
      "text/plain": [
       "<matplotlib.legend.Legend at 0x7f726e958130>"
      ]
     },
     "execution_count": 175,
     "metadata": {},
     "output_type": "execute_result"
    },
    {
     "data": {
      "image/png": "[encoded data removed]",
      "text/plain": [
       "<Figure size 864x576 with 1 Axes>"
      ]
     },
     "metadata": {
      "needs_background": "light"
     },
     "output_type": "display_data"
    }
   ],
   "source": [
    "plt.figure(figsize=(12, 8))\n",
    "sns.histplot(data=titanic_data[titanic_data['Fare'] < 300], x='Fare', hue='Survived', alpha=0.8, binwidth=10)\n",
    "plt.legend(labels=['Survived', 'Not Survived'])"
   ]
  },
  {
   "cell_type": "markdown",
   "id": "7bcc871a",
   "metadata": {},
   "source": [
    "```\n",
    "If you fare below 10, you more likely NOT survive.\n",
    "If you fare 30-40 or higher 90, you have more chances to survive.\n",
    "```"
   ]
  },
  {
   "cell_type": "markdown",
   "id": "8cf8f91c",
   "metadata": {},
   "source": [
    "### Survivability with your family members (SibSp: sibling, spouse; Parch: parent, child):"
   ]
  },
  {
   "cell_type": "markdown",
   "id": "cded1d11",
   "metadata": {},
   "source": [
    "#### SibSp:"
   ]
  },
  {
   "cell_type": "code",
   "execution_count": 176,
   "id": "c359eaaa",
   "metadata": {},
   "outputs": [
    {
     "data": {
      "text/html": [
       "<div>\n",
       "<style scoped>\n",
       "    .dataframe tbody tr th:only-of-type {\n",
       "        vertical-align: middle;\n",
       "    }\n",
       "\n",
       "    .dataframe tbody tr th {\n",
       "        vertical-align: top;\n",
       "    }\n",
       "\n",
       "    .dataframe thead th {\n",
       "        text-align: right;\n",
       "    }\n",
       "</style>\n",
       "<table border=\"1\" class=\"dataframe\">\n",
       "  <thead>\n",
       "    <tr style=\"text-align: right;\">\n",
       "      <th></th>\n",
       "      <th>SibSp</th>\n",
       "      <th>Survived</th>\n",
       "    </tr>\n",
       "  </thead>\n",
       "  <tbody>\n",
       "    <tr>\n",
       "      <th>2</th>\n",
       "      <td>2</td>\n",
       "      <td>0.453956</td>\n",
       "    </tr>\n",
       "    <tr>\n",
       "      <th>1</th>\n",
       "      <td>1</td>\n",
       "      <td>0.433748</td>\n",
       "    </tr>\n",
       "    <tr>\n",
       "      <th>0</th>\n",
       "      <td>0</td>\n",
       "      <td>0.426843</td>\n",
       "    </tr>\n",
       "    <tr>\n",
       "      <th>3</th>\n",
       "      <td>3</td>\n",
       "      <td>0.400000</td>\n",
       "    </tr>\n",
       "    <tr>\n",
       "      <th>6</th>\n",
       "      <td>8</td>\n",
       "      <td>0.385135</td>\n",
       "    </tr>\n",
       "  </tbody>\n",
       "</table>\n",
       "</div>"
      ],
      "text/plain": [
       "   SibSp  Survived\n",
       "2      2  0.453956\n",
       "1      1  0.433748\n",
       "0      0  0.426843\n",
       "3      3  0.400000\n",
       "6      8  0.385135"
      ]
     },
     "execution_count": 176,
     "metadata": {},
     "output_type": "execute_result"
    }
   ],
   "source": [
    "titanic_data[['SibSp', 'Survived']] \\\n",
    "    .groupby(['SibSp'], as_index=False) \\\n",
    "    .mean() \\\n",
    "    .sort_values(by='Survived', ascending=False)[:5]"
   ]
  },
  {
   "cell_type": "markdown",
   "id": "43009394",
   "metadata": {},
   "source": [
    "#### Parch:"
   ]
  },
  {
   "cell_type": "code",
   "execution_count": 177,
   "id": "13106a6c",
   "metadata": {},
   "outputs": [
    {
     "data": {
      "text/html": [
       "<div>\n",
       "<style scoped>\n",
       "    .dataframe tbody tr th:only-of-type {\n",
       "        vertical-align: middle;\n",
       "    }\n",
       "\n",
       "    .dataframe tbody tr th {\n",
       "        vertical-align: top;\n",
       "    }\n",
       "\n",
       "    .dataframe thead th {\n",
       "        text-align: right;\n",
       "    }\n",
       "</style>\n",
       "<table border=\"1\" class=\"dataframe\">\n",
       "  <thead>\n",
       "    <tr style=\"text-align: right;\">\n",
       "      <th></th>\n",
       "      <th>Parch</th>\n",
       "      <th>Survived</th>\n",
       "    </tr>\n",
       "  </thead>\n",
       "  <tbody>\n",
       "    <tr>\n",
       "      <th>1</th>\n",
       "      <td>1</td>\n",
       "      <td>0.592028</td>\n",
       "    </tr>\n",
       "    <tr>\n",
       "      <th>5</th>\n",
       "      <td>5</td>\n",
       "      <td>0.570997</td>\n",
       "    </tr>\n",
       "    <tr>\n",
       "      <th>3</th>\n",
       "      <td>3</td>\n",
       "      <td>0.492370</td>\n",
       "    </tr>\n",
       "    <tr>\n",
       "      <th>7</th>\n",
       "      <td>9</td>\n",
       "      <td>0.439394</td>\n",
       "    </tr>\n",
       "    <tr>\n",
       "      <th>0</th>\n",
       "      <td>0</td>\n",
       "      <td>0.405208</td>\n",
       "    </tr>\n",
       "  </tbody>\n",
       "</table>\n",
       "</div>"
      ],
      "text/plain": [
       "   Parch  Survived\n",
       "1      1  0.592028\n",
       "5      5  0.570997\n",
       "3      3  0.492370\n",
       "7      9  0.439394\n",
       "0      0  0.405208"
      ]
     },
     "execution_count": 177,
     "metadata": {},
     "output_type": "execute_result"
    }
   ],
   "source": [
    "titanic_data[['Parch', 'Survived']] \\\n",
    "    .groupby(['Parch'], as_index=False) \\\n",
    "    .mean() \\\n",
    "    .sort_values(by='Survived', ascending=False)[:5]"
   ]
  },
  {
   "cell_type": "markdown",
   "id": "f2774912",
   "metadata": {},
   "source": [
    "#### Family:"
   ]
  },
  {
   "cell_type": "code",
   "execution_count": 178,
   "id": "8edc208b",
   "metadata": {},
   "outputs": [
    {
     "data": {
      "image/png": "[encoded data removed]",
      "text/plain": [
       "<Figure size 1152x360 with 1 Axes>"
      ]
     },
     "metadata": {
      "needs_background": "light"
     },
     "output_type": "display_data"
    }
   ],
   "source": [
    "titanic_data['Family'] = titanic_data['SibSp'] + titanic_data['Parch'] + 1\n",
    "\n",
    "plt.figure(figsize=(16, 5))\n",
    "ax = sns.countplot(x='Family', hue='Survived', data=titanic_data)\n",
    "\n",
    "for p in ax.patches:\n",
    "    ax.annotate('{:.0f}'.format(p.get_height()), (p.get_x(), p.get_height()))\n",
    "\n",
    "plt.legend(labels=['Not Survived', 'Survived'], loc='upper right')\n",
    "plt.show()"
   ]
  },
  {
   "cell_type": "code",
   "execution_count": 179,
   "id": "ca896d4c",
   "metadata": {},
   "outputs": [
    {
     "data": {
      "text/html": [
       "<div>\n",
       "<style scoped>\n",
       "    .dataframe tbody tr th:only-of-type {\n",
       "        vertical-align: middle;\n",
       "    }\n",
       "\n",
       "    .dataframe tbody tr th {\n",
       "        vertical-align: top;\n",
       "    }\n",
       "\n",
       "    .dataframe thead th {\n",
       "        text-align: right;\n",
       "    }\n",
       "</style>\n",
       "<table border=\"1\" class=\"dataframe\">\n",
       "  <thead>\n",
       "    <tr style=\"text-align: right;\">\n",
       "      <th></th>\n",
       "      <th>Family</th>\n",
       "      <th>Survived</th>\n",
       "    </tr>\n",
       "  </thead>\n",
       "  <tbody>\n",
       "    <tr>\n",
       "      <th>1</th>\n",
       "      <td>2</td>\n",
       "      <td>0.516254</td>\n",
       "    </tr>\n",
       "    <tr>\n",
       "      <th>15</th>\n",
       "      <td>18</td>\n",
       "      <td>0.500000</td>\n",
       "    </tr>\n",
       "    <tr>\n",
       "      <th>2</th>\n",
       "      <td>3</td>\n",
       "      <td>0.482436</td>\n",
       "    </tr>\n",
       "    <tr>\n",
       "      <th>9</th>\n",
       "      <td>10</td>\n",
       "      <td>0.452229</td>\n",
       "    </tr>\n",
       "    <tr>\n",
       "      <th>11</th>\n",
       "      <td>12</td>\n",
       "      <td>0.450000</td>\n",
       "    </tr>\n",
       "  </tbody>\n",
       "</table>\n",
       "</div>"
      ],
      "text/plain": [
       "    Family  Survived\n",
       "1        2  0.516254\n",
       "15      18  0.500000\n",
       "2        3  0.482436\n",
       "9       10  0.452229\n",
       "11      12  0.450000"
      ]
     },
     "execution_count": 179,
     "metadata": {},
     "output_type": "execute_result"
    }
   ],
   "source": [
    "titanic_data[['Family', 'Survived']] \\\n",
    "    .groupby(['Family'], as_index=False) \\\n",
    "    .mean() \\\n",
    "    .sort_values(by='Survived', ascending=False)[:5]"
   ]
  },
  {
   "cell_type": "markdown",
   "id": "92328fd4",
   "metadata": {},
   "source": [
    "```\n",
    "The higher chances to survive is for family of 2 or 3 members.\n",
    "```"
   ]
  },
  {
   "cell_type": "markdown",
   "id": "fe54b847",
   "metadata": {},
   "source": [
    "### Survivability by Name:"
   ]
  },
  {
   "cell_type": "code",
   "execution_count": 180,
   "id": "a7bbc310",
   "metadata": {},
   "outputs": [
    {
     "data": {
      "text/plain": [
       "FirstName\n",
       "Rebekah      1.000000\n",
       "Robyn        0.933333\n",
       "Freda        0.928571\n",
       "Henrietta    0.928571\n",
       "Alexandra    0.916667\n",
       "Nita         0.916667\n",
       "Cristina     0.916667\n",
       "Christie     0.909091\n",
       "Betsy        0.894737\n",
       "Dorothea     0.894737\n",
       "dtype: float64"
      ]
     },
     "execution_count": 180,
     "metadata": {},
     "output_type": "execute_result"
    }
   ],
   "source": [
    "titanic_data['LastName'] = titanic_data['Name'].str.split(', ', expand=True)[0]\n",
    "titanic_data['FirstName'] = titanic_data['Name'].str.split(', ', expand=True)[1]\n",
    "titanic_firstnames = titanic_data.groupby('FirstName').agg({'Survived': ['sum', 'count']})\n",
    "titanic_firstnames = titanic_firstnames[titanic_firstnames[('Survived', 'count')] > 10]\n",
    "(titanic_firstnames[('Survived', 'sum')] / titanic_firstnames[('Survived', 'count')]) \\\n",
    "    .sort_values(ascending=False)[:10]"
   ]
  },
  {
   "cell_type": "markdown",
   "id": "8c40766e",
   "metadata": {},
   "source": [
    "```\n",
    "Most common names with highest survivability are female ones.\n",
    "```"
   ]
  },
  {
   "cell_type": "markdown",
   "id": "417f7a8f",
   "metadata": {},
   "source": [
    "### Survivability by Embarked:\n"
   ]
  },
  {
   "cell_type": "code",
   "execution_count": 181,
   "id": "702fe18a",
   "metadata": {},
   "outputs": [
    {
     "data": {
      "image/png": "[encoded data removed]",
      "text/plain": [
       "<Figure size 432x288 with 1 Axes>"
      ]
     },
     "metadata": {
      "needs_background": "light"
     },
     "output_type": "display_data"
    }
   ],
   "source": [
    "ax = sns.countplot(x='Embarked', hue='Survived', data=titanic_data)\n",
    "\n",
    "for p in ax.patches:\n",
    "    ax.annotate('{:.0f}'.format(p.get_height()), (p.get_x() + 0.07, p.get_height()))\n",
    "\n",
    "plt.legend(labels=['Not Survived', 'Survived'])\n",
    "plt.show()"
   ]
  },
  {
   "cell_type": "markdown",
   "id": "2359681e",
   "metadata": {},
   "source": [
    "\n",
    "If your port of embarkation is *Cherbourg* you have higher chances to survive. If *Queenstown* - you are more likely to survive than not. If *Southampton* - you are more likely to not survive.\n"
   ]
  },
  {
   "cell_type": "markdown",
   "id": "ba999634",
   "metadata": {},
   "source": [
    "### Survivability by Ticket:"
   ]
  },
  {
   "cell_type": "markdown",
   "id": "0d59b97a",
   "metadata": {},
   "source": [
    "```\n",
    "Some tickets have many passengers linked to one ticket. Let's analyze these tickets.\n",
    "```"
   ]
  },
  {
   "cell_type": "code",
   "execution_count": 182,
   "id": "0be9896b",
   "metadata": {},
   "outputs": [
    {
     "data": {
      "text/plain": [
       "A/5            602\n",
       "C.A.           177\n",
       "SC/PARIS       145\n",
       "SOTON/O.Q.      80\n",
       "SC              57\n",
       "W./C.           53\n",
       "A/5.            40\n",
       "W.E.P.          23\n",
       "CA              22\n",
       "STON/O2.        21\n",
       "Name: Ticket, dtype: int64"
      ]
     },
     "execution_count": 182,
     "metadata": {},
     "output_type": "execute_result"
    }
   ],
   "source": [
    "tickets_with_many_passengers"
   ]
  },
  {
   "cell_type": "code",
   "execution_count": 183,
   "id": "8d132b29",
   "metadata": {},
   "outputs": [
    {
     "data": {
      "text/html": [
       "<div>\n",
       "<style scoped>\n",
       "    .dataframe tbody tr th:only-of-type {\n",
       "        vertical-align: middle;\n",
       "    }\n",
       "\n",
       "    .dataframe tbody tr th {\n",
       "        vertical-align: top;\n",
       "    }\n",
       "\n",
       "    .dataframe thead th {\n",
       "        text-align: right;\n",
       "    }\n",
       "</style>\n",
       "<table border=\"1\" class=\"dataframe\">\n",
       "  <thead>\n",
       "    <tr style=\"text-align: right;\">\n",
       "      <th></th>\n",
       "      <th>Ticket</th>\n",
       "      <th>Survived</th>\n",
       "    </tr>\n",
       "  </thead>\n",
       "  <tbody>\n",
       "    <tr>\n",
       "      <th>9</th>\n",
       "      <td>W.E.P.</td>\n",
       "      <td>0.521739</td>\n",
       "    </tr>\n",
       "    <tr>\n",
       "      <th>4</th>\n",
       "      <td>SC</td>\n",
       "      <td>0.491228</td>\n",
       "    </tr>\n",
       "    <tr>\n",
       "      <th>8</th>\n",
       "      <td>W./C.</td>\n",
       "      <td>0.490566</td>\n",
       "    </tr>\n",
       "    <tr>\n",
       "      <th>5</th>\n",
       "      <td>SC/PARIS</td>\n",
       "      <td>0.448276</td>\n",
       "    </tr>\n",
       "    <tr>\n",
       "      <th>7</th>\n",
       "      <td>STON/O2.</td>\n",
       "      <td>0.428571</td>\n",
       "    </tr>\n",
       "    <tr>\n",
       "      <th>2</th>\n",
       "      <td>C.A.</td>\n",
       "      <td>0.389831</td>\n",
       "    </tr>\n",
       "    <tr>\n",
       "      <th>0</th>\n",
       "      <td>A/5</td>\n",
       "      <td>0.363787</td>\n",
       "    </tr>\n",
       "    <tr>\n",
       "      <th>3</th>\n",
       "      <td>CA</td>\n",
       "      <td>0.363636</td>\n",
       "    </tr>\n",
       "    <tr>\n",
       "      <th>1</th>\n",
       "      <td>A/5.</td>\n",
       "      <td>0.350000</td>\n",
       "    </tr>\n",
       "    <tr>\n",
       "      <th>6</th>\n",
       "      <td>SOTON/O.Q.</td>\n",
       "      <td>0.337500</td>\n",
       "    </tr>\n",
       "  </tbody>\n",
       "</table>\n",
       "</div>"
      ],
      "text/plain": [
       "        Ticket  Survived\n",
       "9      W.E.P.   0.521739\n",
       "4          SC   0.491228\n",
       "8       W./C.   0.490566\n",
       "5    SC/PARIS   0.448276\n",
       "7    STON/O2.   0.428571\n",
       "2        C.A.   0.389831\n",
       "0         A/5   0.363787\n",
       "3          CA   0.363636\n",
       "1        A/5.   0.350000\n",
       "6  SOTON/O.Q.   0.337500"
      ]
     },
     "execution_count": 183,
     "metadata": {},
     "output_type": "execute_result"
    }
   ],
   "source": [
    "tickets_with_many_passengers = titanic_data['Ticket'].value_counts()[:10]\n",
    "titanic_data[titanic_data['Ticket'].isin(tickets_with_many_passengers.index)][['Ticket', 'Survived']] \\\n",
    "    .groupby(['Ticket'], as_index=False) \\\n",
    "    .mean() \\\n",
    "    .sort_values(by='Survived', ascending=False)[:10]"
   ]
  },
  {
   "cell_type": "markdown",
   "id": "935dd746",
   "metadata": {},
   "source": [
    "```\n",
    "Because number of passenger on one ticket varies, there are no clear evidence how it connected with survivability. \n",
    "```"
   ]
  },
  {
   "cell_type": "markdown",
   "id": "9216b06e",
   "metadata": {},
   "source": [
    "### Survivability by Cabin (deck):"
   ]
  },
  {
   "cell_type": "markdown",
   "id": "77a81f3a",
   "metadata": {},
   "source": [
    "```\n",
    "First letter of the Cabin indicates deck.\n",
    "```"
   ]
  },
  {
   "cell_type": "code",
   "execution_count": 184,
   "id": "3f401128",
   "metadata": {},
   "outputs": [
    {
     "data": {
      "image/png": "[encoded data removed]",
      "text/plain": [
       "<Figure size 432x288 with 1 Axes>"
      ]
     },
     "metadata": {
      "needs_background": "light"
     },
     "output_type": "display_data"
    }
   ],
   "source": [
    "titanic_data['Cabin_deck'] = titanic_data[titanic_data['Cabin'].notnull()]['Cabin'].str[:1]\n",
    "\n",
    "ax = sns.countplot(x='Cabin_deck', hue='Survived', data=titanic_data)\n",
    "\n",
    "for p in ax.patches:\n",
    "    ax.annotate('{:.0f}'.format(p.get_height()), (p.get_x(), p.get_height()))\n",
    "\n",
    "plt.legend(labels=['Not Survived', 'Survived'])\n",
    "plt.show()"
   ]
  },
  {
   "cell_type": "code",
   "execution_count": 185,
   "id": "8e183305",
   "metadata": {},
   "outputs": [
    {
     "data": {
      "text/html": [
       "<div>\n",
       "<style scoped>\n",
       "    .dataframe tbody tr th:only-of-type {\n",
       "        vertical-align: middle;\n",
       "    }\n",
       "\n",
       "    .dataframe tbody tr th {\n",
       "        vertical-align: top;\n",
       "    }\n",
       "\n",
       "    .dataframe thead th {\n",
       "        text-align: right;\n",
       "    }\n",
       "</style>\n",
       "<table border=\"1\" class=\"dataframe\">\n",
       "  <thead>\n",
       "    <tr style=\"text-align: right;\">\n",
       "      <th></th>\n",
       "      <th>Cabin_deck</th>\n",
       "      <th>Survived</th>\n",
       "    </tr>\n",
       "  </thead>\n",
       "  <tbody>\n",
       "    <tr>\n",
       "      <th>5</th>\n",
       "      <td>F</td>\n",
       "      <td>0.837104</td>\n",
       "    </tr>\n",
       "    <tr>\n",
       "      <th>6</th>\n",
       "      <td>G</td>\n",
       "      <td>0.836100</td>\n",
       "    </tr>\n",
       "    <tr>\n",
       "      <th>3</th>\n",
       "      <td>D</td>\n",
       "      <td>0.732197</td>\n",
       "    </tr>\n",
       "    <tr>\n",
       "      <th>2</th>\n",
       "      <td>C</td>\n",
       "      <td>0.712220</td>\n",
       "    </tr>\n",
       "    <tr>\n",
       "      <th>1</th>\n",
       "      <td>B</td>\n",
       "      <td>0.630192</td>\n",
       "    </tr>\n",
       "    <tr>\n",
       "      <th>4</th>\n",
       "      <td>E</td>\n",
       "      <td>0.617496</td>\n",
       "    </tr>\n",
       "    <tr>\n",
       "      <th>7</th>\n",
       "      <td>T</td>\n",
       "      <td>0.437500</td>\n",
       "    </tr>\n",
       "    <tr>\n",
       "      <th>0</th>\n",
       "      <td>A</td>\n",
       "      <td>0.274616</td>\n",
       "    </tr>\n",
       "  </tbody>\n",
       "</table>\n",
       "</div>"
      ],
      "text/plain": [
       "  Cabin_deck  Survived\n",
       "5          F  0.837104\n",
       "6          G  0.836100\n",
       "3          D  0.732197\n",
       "2          C  0.712220\n",
       "1          B  0.630192\n",
       "4          E  0.617496\n",
       "7          T  0.437500\n",
       "0          A  0.274616"
      ]
     },
     "execution_count": 185,
     "metadata": {},
     "output_type": "execute_result"
    }
   ],
   "source": [
    "titanic_data[['Cabin_deck', 'Survived']] \\\n",
    "    .groupby(['Cabin_deck'], as_index=False) \\\n",
    "    .mean() \\\n",
    "    .sort_values(by='Survived', ascending=False)"
   ]
  },
  {
   "cell_type": "markdown",
   "id": "151a2045",
   "metadata": {},
   "source": [
    "```\n",
    "Some decks have higher survivability:\n",
    "    F - 84%\n",
    "    G - 84%\n",
    "    D - 73%\n",
    "    C - 71%\n",
    "    B - 63%\n",
    "    E - 62%\n",
    "    T - 44%\n",
    "    A - 27%\n",
    "```"
   ]
  },
  {
   "cell_type": "markdown",
   "id": "a54607b3",
   "metadata": {},
   "source": [
    "# Summary"
   ]
  },
  {
   "cell_type": "markdown",
   "id": "d9fb625c",
   "metadata": {},
   "source": [
    "* Females have 71% chances to survive, while males only 21%\n",
    "* In *1st* or *2nd* class you are more likely (58% & 53%) to survive than in *3rd* class (25%)\n",
    "* If your port of embarkation is Cherbourg you have higher chances to survive. If Queenstown - you are more likely to survive than not. If Southampton - you are more likely to not survive\n",
    "* Some cabin decks have higher survivability (F - 84%, G - 84%, D - 73%, C - 71%, B - 63%, E - 62%, T - 44%, A - 27%)\n",
    "* If you fare below 10, you more likely NOT survive. If you fare 30-40 or higher 90, you have more chances to survive.\n",
    "* If your age between 11-14 or 68 and higher you are more likely to survive\n",
    "* The higher chances to survive is for family of 2 or 3 members\n"
   ]
  }
 ],
 "metadata": {
  "kernelspec": {
   "display_name": "Python 3 (ipykernel)",
   "language": "python",
   "name": "python3"
  },
  "language_info": {
   "codemirror_mode": {
    "name": "ipython",
    "version": 3
   },
   "file_extension": ".py",
   "mimetype": "text/x-python",
   "name": "python",
   "nbconvert_exporter": "python",
   "pygments_lexer": "ipython3",
   "version": "3.10.2"
  },
  "toc": {
   "base_numbering": 1,
   "nav_menu": {},
   "number_sections": true,
   "sideBar": true,
   "skip_h1_title": false,
   "title_cell": "Table of Contents",
   "title_sidebar": "Contents",
   "toc_cell": false,
   "toc_position": {},
   "toc_section_display": true,
   "toc_window_display": false
  }
 },
 "nbformat": 4,
 "nbformat_minor": 5
}
